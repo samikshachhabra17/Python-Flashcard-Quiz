{
 "cells": [
  {
   "cell_type": "code",
   "execution_count": null,
   "id": "84627423-7f37-4d79-b303-a83ac31e644e",
   "metadata": {},
   "outputs": [
    {
     "name": "stdout",
     "output_type": "stream",
     "text": [
      "Welcome to the Python Concepts Flashcard Quiz Game!\n"
     ]
    }
   ],
   "source": [
    "import random\n",
    "\n",
    "# Flashcards related to Python concepts (question: answer)\n",
    "flashcards = {\n",
    "    \"Which function is used to get the length of a list in Python?\": \"len()\",\n",
    "    \"How do you create a comment in Python?\": \"#\",\n",
    "    \"What is the data type of 'True' in Python?\": \"bool\",\n",
    "    \"What operator is used to check equality in Python?\": \"==\",\n",
    "    \"What is the result of 10 % 3 in Python?\": \"1\",\n",
    "    \"Which keyword is used to define a function in Python?\": \"def\",\n",
    "    \"Which method is used to add an item to a list in Python?\": \"append\"\n",
    "}\n",
    "\n",
    "# Convert flashcards dictionary to a list of tuples and shuffle\n",
    "flashcard_list = list(flashcards.items())\n",
    "random.shuffle(flashcard_list)\n",
    "\n",
    "def quiz():\n",
    "    score = 0\n",
    "    for question, answer in flashcard_list:\n",
    "        user_answer = input(f\"{question} \")\n",
    "        if user_answer == answer:\n",
    "            print(\"Correct!\")\n",
    "            score += 1\n",
    "        else:\n",
    "            print(f\"Incorrect. The correct answer is {answer}.\")\n",
    "    print(f\"\\nQuiz Over! Your final score: {score}/{len(flashcard_list)}\")\n",
    "\n",
    "if __name__ == \"__main__\":\n",
    "    print(\"Welcome to the Python Concepts Flashcard Quiz Game!\")\n",
    "    quiz()\n"
   ]
  }
 ],
 "metadata": {
  "kernelspec": {
   "display_name": "Python 3 (ipykernel)",
   "language": "python",
   "name": "python3"
  },
  "language_info": {
   "codemirror_mode": {
    "name": "ipython",
    "version": 3
   },
   "file_extension": ".py",
   "mimetype": "text/x-python",
   "name": "python",
   "nbconvert_exporter": "python",
   "pygments_lexer": "ipython3",
   "version": "3.12.4"
  }
 },
 "nbformat": 4,
 "nbformat_minor": 5
}
